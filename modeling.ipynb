{
 "cells": [
  {
   "cell_type": "markdown",
   "id": "9b0a210c",
   "metadata": {},
   "source": [
    "# Data Modeling For MPG Forecasting Model Using Linear Regression\n",
    "\n",
    "**About Linear Regression**<br><br>\n",
    "Linear regression is a fundamental statistical technique used to model the relationship between a dependent variable and one or more independent variables by fitting a linear equation to observed data. The goal of linear regression is to find the best-fitting straight line (also called the regression line) that predicts the value of the dependent variable based on the input features. It helps us understand how changes in predictors influence the outcome and can be used for forecasting and decision-making.<br><br>"
   ]
  },
  {
   "cell_type": "markdown",
   "id": "447c6e27",
   "metadata": {},
   "source": [
    "# Import Libraries"
   ]
  },
  {
   "cell_type": "code",
   "execution_count": 1,
   "id": "6bdf317e",
   "metadata": {},
   "outputs": [],
   "source": [
    "# import libraries\n",
    "import pandas as pd\n",
    "import numpy as np\n",
    "\n",
    "import matplotlib.pyplot as plt\n",
    "import sklearn\n",
    "from sklearn.model_selection import train_test_split\n",
    "from sklearn.linear_model import LinearRegression\n",
    "from sklearn.metrics import mean_squared_error, r2_score"
   ]
  },
  {
   "cell_type": "markdown",
   "id": "f8c4e1b4",
   "metadata": {},
   "source": [
    "# Load dataset"
   ]
  },
  {
   "cell_type": "code",
   "execution_count": 2,
   "id": "2a9bc6fe",
   "metadata": {},
   "outputs": [],
   "source": [
    "# load preprocessed dataset of mpg\n",
    "df  = pd.read_csv(\"data/mpg_cleaned.csv\")"
   ]
  },
  {
   "cell_type": "code",
   "execution_count": null,
   "id": "f42f6b1f",
   "metadata": {},
   "outputs": [],
   "source": []
  }
 ],
 "metadata": {
  "kernelspec": {
   "display_name": "Python 3",
   "language": "python",
   "name": "python3"
  },
  "language_info": {
   "codemirror_mode": {
    "name": "ipython",
    "version": 3
   },
   "file_extension": ".py",
   "mimetype": "text/x-python",
   "name": "python",
   "nbconvert_exporter": "python",
   "pygments_lexer": "ipython3",
   "version": "3.9.1"
  }
 },
 "nbformat": 4,
 "nbformat_minor": 5
}

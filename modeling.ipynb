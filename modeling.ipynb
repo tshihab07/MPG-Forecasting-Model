{
 "cells": [
  {
   "cell_type": "markdown",
   "id": "9b0a210c",
   "metadata": {},
   "source": [
    "# Data Modeling For MPG Forecasting Model Using Linear Regression\n",
    "\n",
    "**About Linear Regression**<br><br>\n",
    "Linear regression is a fundamental statistical technique used to model the relationship between a dependent variable and one or more independent variables by fitting a linear equation to observed data. The goal of linear regression is to find the best-fitting straight line (also called the regression line) that predicts the value of the dependent variable based on the input features. It helps us understand how changes in predictors influence the outcome and can be used for forecasting and decision-making.<br><br>"
   ]
  },
  {
   "cell_type": "markdown",
   "id": "447c6e27",
   "metadata": {},
   "source": [
    "# Import Libraries"
   ]
  },
  {
   "cell_type": "code",
   "execution_count": 1,
   "id": "6bdf317e",
   "metadata": {},
   "outputs": [],
   "source": [
    "# import libraries\n",
    "import pandas as pd\n",
    "import numpy as np\n",
    "\n",
    "import matplotlib.pyplot as plt\n",
    "import sklearn\n",
    "from sklearn.model_selection import train_test_split\n",
    "from sklearn.linear_model import LinearRegression\n",
    "from sklearn.metrics import mean_squared_error, r2_score"
   ]
  },
  {
   "cell_type": "markdown",
   "id": "f8c4e1b4",
   "metadata": {},
   "source": [
    "# Load and Prepare Data For Modeling"
   ]
  },
  {
   "cell_type": "markdown",
   "id": "a1d0fdbb",
   "metadata": {},
   "source": [
    "## Load data"
   ]
  },
  {
   "cell_type": "code",
   "execution_count": 2,
   "id": "2a9bc6fe",
   "metadata": {},
   "outputs": [],
   "source": [
    "# load preprocessed dataset of mpg\n",
    "df  = pd.read_csv(\"data/mpg_cleaned.csv\")"
   ]
  },
  {
   "cell_type": "markdown",
   "id": "f42f6b1f",
   "metadata": {},
   "source": [
    "## Split the dataset into input features (x) and target variable (y)"
   ]
  },
  {
   "cell_type": "code",
   "execution_count": 3,
   "id": "90dc5233",
   "metadata": {},
   "outputs": [],
   "source": [
    "# features\n",
    "x = df.drop('mpg', axis=1)\n",
    "\n",
    "# target variable\n",
    "y = df['mpg']"
   ]
  },
  {
   "cell_type": "markdown",
   "id": "8a210c0c",
   "metadata": {},
   "source": [
    "## Split the dataset into training and testing sets"
   ]
  },
  {
   "cell_type": "code",
   "execution_count": 4,
   "id": "f6b2cbe3",
   "metadata": {},
   "outputs": [],
   "source": [
    "# split data into training and testing sets (80% train, 20% test)\n",
    "x_train, x_test, y_train, y_test = train_test_split(x, y, test_size=0.2, random_state=42)"
   ]
  },
  {
   "cell_type": "code",
   "execution_count": null,
   "id": "eef09efd",
   "metadata": {},
   "outputs": [],
   "source": []
  }
 ],
 "metadata": {
  "kernelspec": {
   "display_name": "Python 3",
   "language": "python",
   "name": "python3"
  },
  "language_info": {
   "codemirror_mode": {
    "name": "ipython",
    "version": 3
   },
   "file_extension": ".py",
   "mimetype": "text/x-python",
   "name": "python",
   "nbconvert_exporter": "python",
   "pygments_lexer": "ipython3",
   "version": "3.9.1"
  }
 },
 "nbformat": 4,
 "nbformat_minor": 5
}

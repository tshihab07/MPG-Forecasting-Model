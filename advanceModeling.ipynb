{
 "cells": [
  {
   "cell_type": "markdown",
   "id": "0bf064a2",
   "metadata": {},
   "source": [
    "# Advanced Modeling for MPG Forecasting\n",
    "After establishing a baseline model using simple linear regression, it's essential to explore more advanced modeling techniques to enhance prediction accuracy and account for complex patterns in the data. While baseline models offer a solid starting point, they often rely on strong assumptions—such as linear relationships and absence of multicollinearity—which may not fully capture the nuances of real-world data like fuel efficiency (MPG).\n",
    "\n",
    "In this stage, we introduce a series of increasingly sophisticated models including\n",
    "1. Linear Regression\n",
    "2. Ridge Regression\n",
    "3. Random Forest\n",
    "4. Gradient Boosting\n",
    "5. XGBoost\n",
    "\n",
    "These models are capable of handling non-linear relationships, interactions between variables, and high-dimensional feature spaces. Regularization techniques like Ridge Regression help mitigate overfitting, while ensemble methods such as Random Forest and Gradient Boosting combine the strengths of multiple learners to improve generalization. XGBoost, a highly optimized gradient boosting algorithm, often delivers state-of-the-art performance in structured data problems like this.\n",
    "\n",
    "By comparing the performance of these models against the baseline, we aim to identify the most reliable and interpretable approach for accurately forecasting miles per gallon, ultimately supporting more informed decisions in vehicle design and policy planning."
   ]
  },
  {
   "cell_type": "markdown",
   "id": "402ad0cb",
   "metadata": {},
   "source": [
    "# Import Libraries"
   ]
  },
  {
   "cell_type": "code",
   "execution_count": 1,
   "id": "c53de55f",
   "metadata": {},
   "outputs": [],
   "source": [
    "# Ignore warnings\n",
    "import warnings\n",
    "warnings.filterwarnings('ignore')\n",
    "\n",
    "# visualization libraries\n",
    "import pandas as pd\n",
    "import numpy as np\n",
    "import seaborn as sns\n",
    "import matplotlib.pyplot as plt\n",
    "\n",
    "# model libraries\n",
    "from sklearn.model_selection import train_test_split\n",
    "from sklearn.linear_model import LinearRegression, Ridge\n",
    "from sklearn.ensemble import RandomForestRegressor, GradientBoostingRegressor\n",
    "from xgboost import XGBRegressor\n",
    "from sklearn.model_selection import GridSearchCV, RandomizedSearchCV\n",
    "from skopt import BayesSearchCV\n",
    "from skopt.space import Real, Integer, Categorical\n",
    "from sklearn.model_selection import cross_validate\n",
    "from sklearn.metrics import mean_squared_error, mean_absolute_error, r2_score\n",
    "import joblib\n",
    "import shap"
   ]
  },
  {
   "cell_type": "markdown",
   "id": "90a734cc",
   "metadata": {},
   "source": [
    "# Load and Prepare Data For Modeling"
   ]
  },
  {
   "cell_type": "markdown",
   "id": "c9b93625",
   "metadata": {},
   "source": [
    "## Load Data"
   ]
  },
  {
   "cell_type": "code",
   "execution_count": 2,
   "id": "75a83a93",
   "metadata": {},
   "outputs": [],
   "source": [
    "# load preprocessed dataset of mpg\n",
    "df  = pd.read_csv(\"output/mpg_cleaned.csv\")"
   ]
  },
  {
   "cell_type": "markdown",
   "id": "9c32040f",
   "metadata": {},
   "source": [
    "## Split the dataset into input features (x) and target variable (y)"
   ]
  },
  {
   "cell_type": "code",
   "execution_count": 3,
   "id": "d6483c57",
   "metadata": {},
   "outputs": [],
   "source": [
    "# features\n",
    "x = df.drop('mpg', axis=1)\n",
    "\n",
    "# target variable\n",
    "y = df['mpg']"
   ]
  },
  {
   "cell_type": "code",
   "execution_count": 4,
   "id": "4d578d3a",
   "metadata": {},
   "outputs": [
    {
     "data": {
      "text/html": [
       "<div>\n",
       "<style scoped>\n",
       "    .dataframe tbody tr th:only-of-type {\n",
       "        vertical-align: middle;\n",
       "    }\n",
       "\n",
       "    .dataframe tbody tr th {\n",
       "        vertical-align: top;\n",
       "    }\n",
       "\n",
       "    .dataframe thead th {\n",
       "        text-align: right;\n",
       "    }\n",
       "</style>\n",
       "<table border=\"1\" class=\"dataframe\">\n",
       "  <thead>\n",
       "    <tr style=\"text-align: right;\">\n",
       "      <th></th>\n",
       "      <th>cylinders</th>\n",
       "      <th>horsepower</th>\n",
       "      <th>weight</th>\n",
       "      <th>car_age</th>\n",
       "      <th>origin_japan</th>\n",
       "      <th>origin_usa</th>\n",
       "    </tr>\n",
       "  </thead>\n",
       "  <tbody>\n",
       "    <tr>\n",
       "      <th>0</th>\n",
       "      <td>8</td>\n",
       "      <td>130.0</td>\n",
       "      <td>3504</td>\n",
       "      <td>55</td>\n",
       "      <td>False</td>\n",
       "      <td>True</td>\n",
       "    </tr>\n",
       "    <tr>\n",
       "      <th>1</th>\n",
       "      <td>8</td>\n",
       "      <td>165.0</td>\n",
       "      <td>3693</td>\n",
       "      <td>55</td>\n",
       "      <td>False</td>\n",
       "      <td>True</td>\n",
       "    </tr>\n",
       "    <tr>\n",
       "      <th>2</th>\n",
       "      <td>8</td>\n",
       "      <td>150.0</td>\n",
       "      <td>3436</td>\n",
       "      <td>55</td>\n",
       "      <td>False</td>\n",
       "      <td>True</td>\n",
       "    </tr>\n",
       "    <tr>\n",
       "      <th>3</th>\n",
       "      <td>8</td>\n",
       "      <td>150.0</td>\n",
       "      <td>3433</td>\n",
       "      <td>55</td>\n",
       "      <td>False</td>\n",
       "      <td>True</td>\n",
       "    </tr>\n",
       "    <tr>\n",
       "      <th>4</th>\n",
       "      <td>8</td>\n",
       "      <td>140.0</td>\n",
       "      <td>3449</td>\n",
       "      <td>55</td>\n",
       "      <td>False</td>\n",
       "      <td>True</td>\n",
       "    </tr>\n",
       "    <tr>\n",
       "      <th>...</th>\n",
       "      <td>...</td>\n",
       "      <td>...</td>\n",
       "      <td>...</td>\n",
       "      <td>...</td>\n",
       "      <td>...</td>\n",
       "      <td>...</td>\n",
       "    </tr>\n",
       "    <tr>\n",
       "      <th>387</th>\n",
       "      <td>4</td>\n",
       "      <td>86.0</td>\n",
       "      <td>2790</td>\n",
       "      <td>43</td>\n",
       "      <td>False</td>\n",
       "      <td>True</td>\n",
       "    </tr>\n",
       "    <tr>\n",
       "      <th>388</th>\n",
       "      <td>4</td>\n",
       "      <td>52.0</td>\n",
       "      <td>2130</td>\n",
       "      <td>43</td>\n",
       "      <td>False</td>\n",
       "      <td>False</td>\n",
       "    </tr>\n",
       "    <tr>\n",
       "      <th>389</th>\n",
       "      <td>4</td>\n",
       "      <td>84.0</td>\n",
       "      <td>2295</td>\n",
       "      <td>43</td>\n",
       "      <td>False</td>\n",
       "      <td>True</td>\n",
       "    </tr>\n",
       "    <tr>\n",
       "      <th>390</th>\n",
       "      <td>4</td>\n",
       "      <td>79.0</td>\n",
       "      <td>2625</td>\n",
       "      <td>43</td>\n",
       "      <td>False</td>\n",
       "      <td>True</td>\n",
       "    </tr>\n",
       "    <tr>\n",
       "      <th>391</th>\n",
       "      <td>4</td>\n",
       "      <td>82.0</td>\n",
       "      <td>2720</td>\n",
       "      <td>43</td>\n",
       "      <td>False</td>\n",
       "      <td>True</td>\n",
       "    </tr>\n",
       "  </tbody>\n",
       "</table>\n",
       "<p>392 rows × 6 columns</p>\n",
       "</div>"
      ],
      "text/plain": [
       "     cylinders  horsepower  weight  car_age  origin_japan  origin_usa\n",
       "0            8       130.0    3504       55         False        True\n",
       "1            8       165.0    3693       55         False        True\n",
       "2            8       150.0    3436       55         False        True\n",
       "3            8       150.0    3433       55         False        True\n",
       "4            8       140.0    3449       55         False        True\n",
       "..         ...         ...     ...      ...           ...         ...\n",
       "387          4        86.0    2790       43         False        True\n",
       "388          4        52.0    2130       43         False       False\n",
       "389          4        84.0    2295       43         False        True\n",
       "390          4        79.0    2625       43         False        True\n",
       "391          4        82.0    2720       43         False        True\n",
       "\n",
       "[392 rows x 6 columns]"
      ]
     },
     "execution_count": 4,
     "metadata": {},
     "output_type": "execute_result"
    }
   ],
   "source": [
    "# features\n",
    "x"
   ]
  },
  {
   "cell_type": "code",
   "execution_count": 5,
   "id": "9d7ad601",
   "metadata": {},
   "outputs": [
    {
     "data": {
      "text/plain": [
       "0      18.0\n",
       "1      15.0\n",
       "2      18.0\n",
       "3      16.0\n",
       "4      17.0\n",
       "       ... \n",
       "387    27.0\n",
       "388    44.0\n",
       "389    32.0\n",
       "390    28.0\n",
       "391    31.0\n",
       "Name: mpg, Length: 392, dtype: float64"
      ]
     },
     "execution_count": 5,
     "metadata": {},
     "output_type": "execute_result"
    }
   ],
   "source": [
    "# target variable\n",
    "y"
   ]
  },
  {
   "cell_type": "markdown",
   "id": "c63647ba",
   "metadata": {},
   "source": [
    "## Split the dataset into training and testing sets"
   ]
  },
  {
   "cell_type": "code",
   "execution_count": 6,
   "id": "815ef7ff",
   "metadata": {},
   "outputs": [],
   "source": [
    "# split data into training and testing sets (80% train, 20% test)\n",
    "x_train, x_test, y_train, y_test = train_test_split(x, y, test_size=0.2, random_state=42)"
   ]
  },
  {
   "cell_type": "markdown",
   "id": "6d153b31",
   "metadata": {},
   "source": [
    "# Advanced Modeling Techniques"
   ]
  },
  {
   "cell_type": "markdown",
   "id": "5bcdcbf3",
   "metadata": {},
   "source": [
    "## Generate Empty Models"
   ]
  },
  {
   "cell_type": "code",
   "execution_count": 7,
   "id": "f7b87ddb",
   "metadata": {},
   "outputs": [],
   "source": [
    "# create a dictionary to hold the empty models\n",
    "models = {\n",
    "    \"Linear Regression\": LinearRegression(),\n",
    "    \"Ridge Regression\": Ridge(random_state=42),\n",
    "    \"Random Forest\": RandomForestRegressor(random_state=42),\n",
    "    \"Gradient Boosting Regressor\": GradientBoostingRegressor(random_state=42),\n",
    "    \"XGBoost\": XGBRegressor(random_state=42, enable_categorical=True)\n",
    "}"
   ]
  },
  {
   "cell_type": "markdown",
   "id": "2b155d2f",
   "metadata": {},
   "source": [
    "# Hyperparameter tuning"
   ]
  },
  {
   "cell_type": "markdown",
   "id": "ca122081",
   "metadata": {},
   "source": [
    "## Hyperparameter Grids and Bayesian Search Space"
   ]
  },
  {
   "cell_type": "code",
   "execution_count": 8,
   "id": "fd2f4e73",
   "metadata": {},
   "outputs": [],
   "source": [
    "# hyperparameter grids\n",
    "param_grids = {\n",
    "    \"Linear Regression\": {\n",
    "        'fit_intercept': [True, False],\n",
    "        'positive': [False]\n",
    "    },\n",
    "\n",
    "    \"Ridge Regression\": {\n",
    "        'alpha': np.logspace(-4, 4, 9),\n",
    "        'solver':  Categorical(['auto', 'svd', 'cholesky', 'lsqr', 'sparse_cg', 'sag', 'saga'])\n",
    "    },\n",
    "\n",
    "    \"Random Forest\": {\n",
    "        'n_estimators': [50, 100, 150],\n",
    "        'max_depth': [None, 10, 20, 30],\n",
    "        'min_samples_split': [2, 5, 10],\n",
    "        'min_samples_leaf': [1, 2, 4]\n",
    "    },\n",
    "\n",
    "    \"Gradient Boosting Regressor\": {\n",
    "        'n_estimators': [50, 100, 150],\n",
    "        'learning_rate': [0.01, 0.1, 0.2],\n",
    "        'max_depth': [3, 5, 7],\n",
    "        'min_samples_split': [2, 5],\n",
    "        'min_samples_leaf': [1, 2]\n",
    "    },\n",
    "\n",
    "    \"XGBoost\": {\n",
    "        'n_estimators': [50, 100, 150],\n",
    "        'learning_rate': [0.01, 0.1, 0.2],\n",
    "        'max_depth': [3, 5, 7],\n",
    "        'colsample_bytree': [0.6, 0.8, 1.0],\n",
    "        'subsample': [0.6, 0.8, 1.0]\n",
    "    }\n",
    "}"
   ]
  },
  {
   "cell_type": "code",
   "execution_count": 9,
   "id": "378ca08c",
   "metadata": {},
   "outputs": [],
   "source": [
    "# bayesian search space\n",
    "bayes_spaces = {\n",
    "    \"Linear Regression\" : {\n",
    "        'fit_intercept' : Categorical([True, False]),\n",
    "        'positive' : Categorical([False])\n",
    "    },\n",
    "\n",
    "    \"Ridge Regression\" : {\n",
    "        'alpha' : Real(1e-4, 1e4, prior='log-uniform'),\n",
    "        'solver' : Categorical(['auto', 'svd', 'cholesky', 'lsqr', 'sparse_cg', 'sag', 'saga'])\n",
    "    },\n",
    "\n",
    "    \"Random Forest\" : {\n",
    "        'n_estimators' : Integer(50, 150),\n",
    "        'max_depth' : Integer(5, 30),\n",
    "        'min_samples_split' : Integer(2, 10),\n",
    "        'min_samples_leaf' : Integer(1, 4)\n",
    "    },\n",
    "\n",
    "    \"Gradient Boosting Regressor\" : {\n",
    "        'n_estimators' : Integer(50, 200),\n",
    "        'learning_rate' : Real(0.01, 0.3, prior='log-uniform'),\n",
    "        'max_depth' : Integer(3, 10),\n",
    "        'min_samples_split' : Integer(2, 10),\n",
    "        'min_samples_leaf' : Integer(1, 4)\n",
    "    },\n",
    "\n",
    "    \"XGBoost\" : {\n",
    "        'n_estimators' : Integer(50, 150),\n",
    "        'learning_rate' : Real(0.01, 0.3, prior='log-uniform'),\n",
    "        'max_depth' : Integer(3, 10),\n",
    "        'colsample_bytree' : Real(0.5, 1.0),\n",
    "        'subsample' : Real(0.5, 1.0)\n",
    "    }\n",
    "}"
   ]
  }
 ],
 "metadata": {
  "kernelspec": {
   "display_name": "Python 3",
   "language": "python",
   "name": "python3"
  },
  "language_info": {
   "codemirror_mode": {
    "name": "ipython",
    "version": 3
   },
   "file_extension": ".py",
   "mimetype": "text/x-python",
   "name": "python",
   "nbconvert_exporter": "python",
   "pygments_lexer": "ipython3",
   "version": "3.9.1"
  }
 },
 "nbformat": 4,
 "nbformat_minor": 5
}
